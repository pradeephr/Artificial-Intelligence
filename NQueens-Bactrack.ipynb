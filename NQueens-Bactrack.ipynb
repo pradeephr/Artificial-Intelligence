{
 "cells": [
  {
   "cell_type": "markdown",
   "metadata": {},
   "source": [
    "## Assignment 2, 22-Queen Programming"
   ]
  },
  {
   "cell_type": "markdown",
   "metadata": {},
   "source": [
    "Solve NQueens using bactracking"
   ]
  },
  {
   "cell_type": "code",
   "execution_count": 7,
   "metadata": {},
   "outputs": [],
   "source": [
    "n=4 #board size nXn placing n queens "
   ]
  },
  {
   "cell_type": "code",
   "execution_count": 8,
   "metadata": {},
   "outputs": [],
   "source": [
    "class board:\n",
    "    positions=[]\n",
    "    row=0\n",
    "    children=[]\n",
    "    \n",
    "    def __init__(self):\n",
    "        #print(\"initailized the process\")\n",
    "        self.row=0\n",
    "    \n",
    "    def get_next_moves(self):\n",
    "        self.children=[]\n",
    "        for i in range(n):\n",
    "            child=board()\n",
    "            child.row=self.row+1\n",
    "            child.positions=[]\n",
    "            child.positions.extend(self.positions)\n",
    "            #print(\"self.spotiosn are \",self.positions)\n",
    "            child.positions.append([child.row,i])\n",
    "            if(child.valid_move()):\n",
    "                self.children.append(child)\n",
    "            child=None\n",
    "    \n",
    "    def valid_move(self):\n",
    "        #print(\">>>>validating child ,\",self.positions)\n",
    "        l=len(self.positions)\n",
    "        j=l-1\n",
    "        #print(self.positions)\n",
    "        for i in range(l-1):\n",
    "            if((self.positions[i][1]==self.positions[j][1])\n",
    "                or (abs(self.positions[i][0]-self.positions[j][0]) == abs(self.positions[i][1]-self.positions[j][1]))):\n",
    "                    return False;\n",
    "        return True;\n",
    "\n",
    "def back_track(b1):\n",
    "    global n\n",
    "    global count\n",
    "    frontier=[]\n",
    "    frontier.append(b1)\n",
    "    while(count<4):\n",
    "        if(b1.row==n-1):\n",
    "            result.append(b1)\n",
    "            #print(\">>>>>>>>>>>>>>>>>>>>>\",b1.positions)\n",
    "            count+=1\n",
    "        b1.get_next_moves()\n",
    "        frontier.extend(b1.children)\n",
    "        b1=frontier.pop()\n",
    "        \n",
    "def print_result(result):\n",
    "\n",
    "    for node in result:\n",
    "        res=\"\"\n",
    "        for pos in node.positions:\n",
    "            res+=str(pos)\n",
    "        res=res.replace('[','(');\n",
    "        res=res.replace(']',')');\n",
    "        print(res)    \n",
    "    \n",
    "result=[]\n",
    "count=0\n",
    "root=board()\n",
    "root.row=-1\n",
    "#search_depth(root)\n",
    "back_track(root)\n",
    "\n"
   ]
  },
  {
   "cell_type": "markdown",
   "metadata": {},
   "source": [
    "\n",
    "The output format is as follows. \n",
    "Example Output for 4-queens Problem. Each pair of values represents the position of a queen (row, column)\n",
    "(0,1) (1,3) (2,0) (3,2)\n",
    "(0,2) (1,0) (2,3) (3,1)\n",
    "\n",
    "\n"
   ]
  },
  {
   "cell_type": "code",
   "execution_count": 9,
   "metadata": {
    "scrolled": true
   },
   "outputs": [
    {
     "name": "stdout",
     "output_type": "stream",
     "text": [
      "(0, 2)(1, 0)(2, 3)(3, 1)\n",
      "(0, 1)(1, 3)(2, 0)(3, 2)\n",
      "(0, 2)(1, 0)(2, 3)(3, 1)\n",
      "(0, 1)(1, 3)(2, 0)(3, 2)\n"
     ]
    }
   ],
   "source": [
    "print_result(result)"
   ]
  }
 ],
 "metadata": {
  "anaconda-cloud": {},
  "kernelspec": {
   "display_name": "Python 3",
   "language": "python",
   "name": "python3"
  },
  "language_info": {
   "codemirror_mode": {
    "name": "ipython",
    "version": 3
   },
   "file_extension": ".py",
   "mimetype": "text/x-python",
   "name": "python",
   "nbconvert_exporter": "python",
   "pygments_lexer": "ipython3",
   "version": "3.6.4"
  }
 },
 "nbformat": 4,
 "nbformat_minor": 1
}
